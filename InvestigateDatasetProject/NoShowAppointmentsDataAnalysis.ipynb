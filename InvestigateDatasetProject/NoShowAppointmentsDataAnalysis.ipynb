{
  "nbformat": 4,
  "nbformat_minor": 0,
  "metadata": {
    "kernelspec": {
      "display_name": "Python 3",
      "language": "python",
      "name": "python3"
    },
    "language_info": {
      "codemirror_mode": {
        "name": "ipython",
        "version": 3
      },
      "file_extension": ".py",
      "mimetype": "text/x-python",
      "name": "python",
      "nbconvert_exporter": "python",
      "pygments_lexer": "ipython3",
      "version": "3.6.3"
    },
    "colab": {
      "name": "NoShowAppointmentsDataAnalysis.ipynb",
      "provenance": [],
      "collapsed_sections": [],
      "include_colab_link": true
    }
  },
  "cells": [
    {
      "cell_type": "markdown",
      "metadata": {
        "id": "view-in-github",
        "colab_type": "text"
      },
      "source": [
        "<a href=\"https://colab.research.google.com/github/JoHussien/DataAnalysisNanoDegreeUdacity/blob/main/InvestigateDatasetProject/NoShowAppointmentsDataAnalysis.ipynb\" target=\"_parent\"><img src=\"https://colab.research.google.com/assets/colab-badge.svg\" alt=\"Open In Colab\"/></a>"
      ]
    },
    {
      "cell_type": "markdown",
      "metadata": {
        "id": "79RoS00Q3jyW"
      },
      "source": [
        "Welcome to the Investigate a Dataset project! This project is part of the Data Analysis Professional Nanoderee offered through Udacity platform and supported by eFWD Scholarship [Data Professional Track]\n",
        "\n",
        "# Project: Investigate a Dataset - No Show Appointments Dataset\n",
        "\n",
        "## Table of Contents\n",
        "<ul>\n",
        "<li><a href=\"#intro\">Introduction</a></li>\n",
        "<li><a href=\"#wrangling\">Data Wrangling</a></li>\n",
        "<li><a href=\"#eda\">Exploratory Data Analysis</a></li>\n",
        "<li><a href=\"#conclusions\">Conclusions</a></li>\n",
        "</ul>"
      ]
    },
    {
      "cell_type": "markdown",
      "metadata": {
        "id": "4DWGHtEc3jyd"
      },
      "source": [
        "<a id='intro'></a>\n",
        "## Introduction\n",
        "\n",
        "### Dataset Description \n",
        "\n",
        ">The dataset we are analysing throughout this notebook is the \"Medical Appointment No Shows\" dataset that is available over [Kaggle](https://www.kaggle.com/joniarroba/noshowappointments). \n",
        "This dataset contains 110.527 medical appointments with each appointment has its 14 associated variables (characteristics). The most important one if the patient show-up or no-show to the appointment.\n",
        "\n",
        "> List of attributes \"Characteristics of the dataset\":\n",
        "**bold text**\n",
        "\n",
        "  1.   PatientId: Identification of a patient\n",
        "  2.   AppointmentID: Identification of each appointment\n",
        "  3. Gender:Male or Female . Female is the greater proportion, woman takes way more care of they health in comparison to man.\n",
        "  4. ScheduledDay: The day of the actuall appointment, when they have to visit the doctor.\n",
        "  5. AppointmentDay: The day someone called or registered the appointment, this is before appointment of course.\n",
        "  6. Age: How old is the patient.\n",
        "  7. Neighbourhood: Where the appointment takes place.\n",
        "  8. Scholarship: True of False. It indicates whether or not the patient is enrolled in Brasilian welfare program Bolsa Família.Observation, this is a broad topic, consider reading this [article](https://en.wikipedia.org/wiki/Bolsa_Fam%C3%ADlia) \n",
        "  9. Hipertension: True or False\n",
        "  10. Diabetes: True or False\n",
        "  11. Alcoholism: True or False\n",
        "  12. Handcap: True or False\n",
        "  13. SMS_received: 1 or more messages sent to the patient.\n",
        "  14. No-show: True or False\n",
        "\n",
        "\n",
        "\n",
        "\n",
        "\n",
        "\n",
        "\n",
        "\n",
        "\n",
        "\n",
        "### Question(s) for Analysis\n",
        "\n",
        "1. Does a certain gender influence whether one shows up to appointments or not?\n",
        "2. Does certain age group have high influence whether one shows up to appointments or not? If yes, what will it be?\n",
        "3. Does alcoholic people have higher tendency to show up or not?\n",
        "4. Does Diabetic people show up for their appoinments or not ?\n",
        "\n",
        ">**Tip**: Clearly state one or more questions that you plan on exploring over the course of the report. You will address these questions in the **data analysis** and **conclusion** sections. Try to build your report around the analysis of at least one dependent variable and three independent variables. If you're not sure what questions to ask, then make sure you familiarize yourself with the dataset, its variables and the dataset context for ideas of what to explore.\n",
        "\n"
      ]
    },
    {
      "cell_type": "code",
      "metadata": {
        "collapsed": true,
        "id": "bJtjjqEa3jye"
      },
      "source": [
        "import numpy as np\n",
        "import pandas as pd\n",
        "import matplotlib.pyplot  as plt"
      ],
      "execution_count": null,
      "outputs": []
    },
    {
      "cell_type": "code",
      "metadata": {
        "id": "UxAKNNc_3jyf",
        "colab": {
          "base_uri": "https://localhost:8080/"
        },
        "outputId": "0ba4e82d-df02-47d2-c64d-ab13889d7779"
      },
      "source": [
        "# Upgrade pandas to use dataframe.explode() function. \n",
        "!pip install --upgrade pandas==0.25.0"
      ],
      "execution_count": null,
      "outputs": [
        {
          "output_type": "stream",
          "name": "stdout",
          "text": [
            "Requirement already satisfied: pandas==0.25.0 in /usr/local/lib/python3.7/dist-packages (0.25.0)\n",
            "Requirement already satisfied: python-dateutil>=2.6.1 in /usr/local/lib/python3.7/dist-packages (from pandas==0.25.0) (2.8.2)\n",
            "Requirement already satisfied: pytz>=2017.2 in /usr/local/lib/python3.7/dist-packages (from pandas==0.25.0) (2018.9)\n",
            "Requirement already satisfied: numpy>=1.13.3 in /usr/local/lib/python3.7/dist-packages (from pandas==0.25.0) (1.19.5)\n",
            "Requirement already satisfied: six>=1.5 in /usr/local/lib/python3.7/dist-packages (from python-dateutil>=2.6.1->pandas==0.25.0) (1.15.0)\n"
          ]
        }
      ]
    },
    {
      "cell_type": "markdown",
      "metadata": {
        "id": "zwob3RMF9Ta4"
      },
      "source": [
        "The next step is to get the data from my drive, as I am working on Google colab. So please feel free to ignore it and assume that you have the data stored on your machine."
      ]
    },
    {
      "cell_type": "code",
      "metadata": {
        "id": "DxmDwDpN9QTC",
        "colab": {
          "base_uri": "https://localhost:8080/"
        },
        "outputId": "cd3a9680-56e2-4113-b86c-beb3e9fab1d7"
      },
      "source": [
        "#Mount the drive to get the data\n",
        "#mount Google drive\n",
        "from google.colab import drive\n",
        "drive.mount(\"/content/drive\")\n",
        "#Print the contents of the respective folder in my drive\n",
        "!ls \"drive/My Drive/udacityProjects/InvestigateDatasetProject/data\"\n",
        "# a variable to store the location of my data file\n",
        "file_path = \"drive/My Drive/udacityProjects/InvestigateDatasetProject/data/noshowappointments-kagglev2-may-2016.csv\""
      ],
      "execution_count": null,
      "outputs": [
        {
          "output_type": "stream",
          "name": "stdout",
          "text": [
            "Drive already mounted at /content/drive; to attempt to forcibly remount, call drive.mount(\"/content/drive\", force_remount=True).\n",
            "noshowappointments-kagglev2-may-2016.csv\n"
          ]
        }
      ]
    },
    {
      "cell_type": "markdown",
      "metadata": {
        "id": "3_ODFFI63jyg"
      },
      "source": [
        "<a id='wrangling'></a>\n",
        "## Data Wrangling\n",
        "\n",
        "> **Tip**: In this section of the report, you will load in the data, check for cleanliness, and then trim and clean your dataset for analysis. Make sure that you **document your data cleaning steps in mark-down cells precisely and justify your cleaning decisions.**\n",
        "\n",
        "\n"
      ]
    },
    {
      "cell_type": "markdown",
      "metadata": {
        "id": "0pYfHRDU-2a4"
      },
      "source": [
        "Get the data and explore some of its main properities"
      ]
    },
    {
      "cell_type": "code",
      "metadata": {
        "collapsed": true,
        "id": "_xOSYrIg3jyh",
        "colab": {
          "base_uri": "https://localhost:8080/"
        },
        "outputId": "a14d42b5-113e-440a-9de3-b91d46d55bc7"
      },
      "source": [
        "# Load your data and print out a few lines. Perform operations to inspect data\n",
        "#   types and look for instances of missing or possibly errant data.\n",
        "my_data = pd.read_csv(file_path)\n",
        "#print the first few lines of my dataset\n",
        "print(\"The first five rows of my data is:\")\n",
        "print(my_data.head())\n"
      ],
      "execution_count": null,
      "outputs": [
        {
          "output_type": "stream",
          "name": "stdout",
          "text": [
            "The first five rows of my data is:\n",
            "      PatientId  AppointmentID Gender  ... Handcap SMS_received  No-show\n",
            "0  2.987250e+13        5642903      F  ...       0            0       No\n",
            "1  5.589978e+14        5642503      M  ...       0            0       No\n",
            "2  4.262962e+12        5642549      F  ...       0            0       No\n",
            "3  8.679512e+11        5642828      F  ...       0            0       No\n",
            "4  8.841186e+12        5642494      F  ...       0            0       No\n",
            "\n",
            "[5 rows x 14 columns]\n"
          ]
        }
      ]
    },
    {
      "cell_type": "markdown",
      "metadata": {
        "id": "uXHlW8PE_Fnv"
      },
      "source": [
        "Print the names of the columns of the dataset and their properities"
      ]
    },
    {
      "cell_type": "code",
      "metadata": {
        "colab": {
          "base_uri": "https://localhost:8080/"
        },
        "id": "IjchpdE-_K1k",
        "outputId": "a86b51d6-d553-475a-a24e-9ff2d847d300"
      },
      "source": [
        "#getting the size of the dataset\n",
        "print(\"Shape of the dataset is \",my_data.shape)\n",
        "#Print the names of the columns of the dataset and some information about my dataset\n",
        "print(my_data.info())\n",
        "\n",
        "# We have five columns of 'object' dtype and thus we need to understand the columns of 'object' dtype and thus they need further exploration\n",
        "print(\"Type of \\'ScheduledDay\\' {}\".format(type(my_data['ScheduledDay'][0])))\n",
        "print(\"Type of \\'Gender\\' {}\".format(type(my_data['Gender'][0])))\n",
        "print(\"Type of \\'AppointmentDay  \\' {}\".format(type(my_data['AppointmentDay'][0])))\n",
        "print(\"Type of \\'Neighbourhood   \\' {}\".format(type(my_data['Neighbourhood'][0])))\n",
        "print(\"Type of \\'No-show\\' {}\".format(type(my_data['No-show'][0])))"
      ],
      "execution_count": null,
      "outputs": [
        {
          "output_type": "stream",
          "name": "stdout",
          "text": [
            "Shape of the dataset is  (110527, 14)\n",
            "<class 'pandas.core.frame.DataFrame'>\n",
            "RangeIndex: 110527 entries, 0 to 110526\n",
            "Data columns (total 14 columns):\n",
            "PatientId         110527 non-null float64\n",
            "AppointmentID     110527 non-null int64\n",
            "Gender            110527 non-null object\n",
            "ScheduledDay      110527 non-null object\n",
            "AppointmentDay    110527 non-null object\n",
            "Age               110527 non-null int64\n",
            "Neighbourhood     110527 non-null object\n",
            "Scholarship       110527 non-null int64\n",
            "Hipertension      110527 non-null int64\n",
            "Diabetes          110527 non-null int64\n",
            "Alcoholism        110527 non-null int64\n",
            "Handcap           110527 non-null int64\n",
            "SMS_received      110527 non-null int64\n",
            "No-show           110527 non-null object\n",
            "dtypes: float64(1), int64(8), object(5)\n",
            "memory usage: 11.8+ MB\n",
            "None\n",
            "Type of 'ScheduledDay' <class 'str'>\n",
            "Type of 'Gender' <class 'str'>\n",
            "Type of 'AppointmentDay  ' <class 'str'>\n",
            "Type of 'Neighbourhood   ' <class 'str'>\n",
            "Type of 'No-show' <class 'str'>\n"
          ]
        }
      ]
    },
    {
      "cell_type": "markdown",
      "metadata": {
        "id": "YVjsHN2Jnhur"
      },
      "source": [
        "**So from the above data it seams that:**\n",
        "1. We don't have empty entries or null entries for ant of the 14 attributes of the 110527 data points\n",
        "2. The datatypes are either integer, float or string\n",
        "3. Some of the string attributes need to be casted into an integer datatype representing that string."
      ]
    },
    {
      "cell_type": "markdown",
      "metadata": {
        "id": "gx2BWuXJnHQ6"
      },
      "source": [
        "Looking at some general properities of each column of the dataset"
      ]
    },
    {
      "cell_type": "code",
      "metadata": {
        "colab": {
          "base_uri": "https://localhost:8080/"
        },
        "id": "68SYJOwmmYAj",
        "outputId": "7303a35d-7e2e-4467-86fe-ebf463538650"
      },
      "source": [
        "#Looking at the description of the dataset, i.e looking at some properities for each column\n",
        "print(\"Investigating some properities of each column of the data:\\n\",my_data.describe())\n"
      ],
      "execution_count": null,
      "outputs": [
        {
          "output_type": "stream",
          "name": "stdout",
          "text": [
            "Investigating some properities of each column of the data:\n",
            "           PatientId  AppointmentID  ...        Handcap   SMS_received\n",
            "count  1.105270e+05   1.105270e+05  ...  110527.000000  110527.000000\n",
            "mean   1.474963e+14   5.675305e+06  ...       0.022248       0.321026\n",
            "std    2.560949e+14   7.129575e+04  ...       0.161543       0.466873\n",
            "min    3.921784e+04   5.030230e+06  ...       0.000000       0.000000\n",
            "25%    4.172614e+12   5.640286e+06  ...       0.000000       0.000000\n",
            "50%    3.173184e+13   5.680573e+06  ...       0.000000       0.000000\n",
            "75%    9.439172e+13   5.725524e+06  ...       0.000000       1.000000\n",
            "max    9.999816e+14   5.790484e+06  ...       4.000000       1.000000\n",
            "\n",
            "[8 rows x 9 columns]\n"
          ]
        }
      ]
    },
    {
      "cell_type": "markdown",
      "metadata": {
        "id": "sRihiWWfoR3Z"
      },
      "source": [
        "We need to make sure again that we don't have any null entries in any of the data points and thus we do this further step\n"
      ]
    },
    {
      "cell_type": "code",
      "metadata": {
        "colab": {
          "base_uri": "https://localhost:8080/"
        },
        "id": "g66sL7dyoapz",
        "outputId": "dc6cdaed-d8f3-44af-f2c7-b7839a7adc9d"
      },
      "source": [
        "print(\"The number of null values per column\",my_data.isnull().sum())"
      ],
      "execution_count": null,
      "outputs": [
        {
          "output_type": "stream",
          "name": "stdout",
          "text": [
            "The number of null values per column PatientId         0\n",
            "AppointmentID     0\n",
            "Gender            0\n",
            "ScheduledDay      0\n",
            "AppointmentDay    0\n",
            "Age               0\n",
            "Neighbourhood     0\n",
            "Scholarship       0\n",
            "Hipertension      0\n",
            "Diabetes          0\n",
            "Alcoholism        0\n",
            "Handcap           0\n",
            "SMS_received      0\n",
            "No-show           0\n",
            "dtype: int64\n"
          ]
        }
      ]
    },
    {
      "cell_type": "markdown",
      "metadata": {
        "id": "hgRykz7yonzy"
      },
      "source": [
        "\n",
        "So, Yes there is no null values in any of the 14 columns as agreed upon before. "
      ]
    },
    {
      "cell_type": "markdown",
      "metadata": {
        "id": "Iw4yka6btkHS"
      },
      "source": [
        "Now we will look at the last attirbute 'No-show' and see the count of values of each value type."
      ]
    },
    {
      "cell_type": "code",
      "metadata": {
        "colab": {
          "base_uri": "https://localhost:8080/"
        },
        "id": "-5EQjBEUtth6",
        "outputId": "003055b4-56a2-4c6f-93fd-d1371805ea45"
      },
      "source": [
        "print(\"Count for each 'No-show' value:\\n\",my_data['No-show'].value_counts())"
      ],
      "execution_count": null,
      "outputs": [
        {
          "output_type": "stream",
          "name": "stdout",
          "text": [
            "Count for each 'No-show' value:\n",
            " No     88208\n",
            "Yes    22319\n",
            "Name: No-show, dtype: int64\n"
          ]
        }
      ]
    },
    {
      "cell_type": "markdown",
      "metadata": {
        "id": "-Jz4KBYbuB4a"
      },
      "source": [
        "So, we don't have wrong classifications in this attribute, only string values that we want to encode or represent as integer values. More on that in the cleaning section."
      ]
    },
    {
      "cell_type": "markdown",
      "metadata": {
        "id": "Jlg6Asnio4lq"
      },
      "source": [
        "Now, we need to look at outliers and make sure that everything is correct.\n",
        "\n",
        "The first thing we will do is to look at the age distribution we have and make sure that we don't have anything that is not reasonable, i.e having a negative age or having a very large age."
      ]
    },
    {
      "cell_type": "code",
      "metadata": {
        "colab": {
          "base_uri": "https://localhost:8080/",
          "height": 282
        },
        "id": "GLkgbBJPpLC5",
        "outputId": "2d548c0f-4658-435e-b8ea-9b44c74b31ff"
      },
      "source": [
        "#Plotting the age distribution for ease of representation and visualisation\n",
        "my_data['Age'].plot(kind='hist')"
      ],
      "execution_count": null,
      "outputs": [
        {
          "output_type": "execute_result",
          "data": {
            "text/plain": [
              "<matplotlib.axes._subplots.AxesSubplot at 0x7f0ccfd98c90>"
            ]
          },
          "metadata": {},
          "execution_count": 276
        },
        {
          "output_type": "display_data",
          "data": {
            "image/png": "[encoded data removed]",
            "text/plain": [
              "<Figure size 432x288 with 1 Axes>"
            ]
          },
          "metadata": {
            "needs_background": "light"
          }
        }
      ]
    },
    {
      "cell_type": "code",
      "metadata": {
        "colab": {
          "base_uri": "https://localhost:8080/"
        },
        "id": "xZbydGWmpdZC",
        "outputId": "e1cb84a1-abc3-4e81-96ee-60c47045bf3a"
      },
      "source": [
        "#Getting the minimum and the maximum of the age group\n",
        "print(\"Age maximum is \",my_data['Age'].max())\n",
        "print(\"Age Minumum is \",my_data['Age'].min())"
      ],
      "execution_count": null,
      "outputs": [
        {
          "output_type": "stream",
          "name": "stdout",
          "text": [
            "Age maximum is  115\n",
            "Age Minumum is  -1\n"
          ]
        }
      ]
    },
    {
      "cell_type": "markdown",
      "metadata": {
        "id": "zk4a8Se9p-GK"
      },
      "source": [
        "So it seems that there is a problem here, which wasn't expected. So let's make sure of this by printing the number of occurences of each age value in the 'Age' column"
      ]
    },
    {
      "cell_type": "code",
      "metadata": {
        "colab": {
          "base_uri": "https://localhost:8080/"
        },
        "id": "0WiLP6zAqINL",
        "outputId": "0d4fe424-f4a5-4267-81da-1e51cb62ecc2"
      },
      "source": [
        "print(\"Count for each age value:\\n\",my_data['Age'].value_counts(sort=True))"
      ],
      "execution_count": null,
      "outputs": [
        {
          "output_type": "stream",
          "name": "stdout",
          "text": [
            "Count for each age value:\n",
            "  0      3539\n",
            " 1      2273\n",
            " 52     1746\n",
            " 49     1652\n",
            " 53     1651\n",
            "        ... \n",
            " 115       5\n",
            " 100       4\n",
            " 102       2\n",
            " 99        1\n",
            "-1         1\n",
            "Name: Age, Length: 104, dtype: int64\n"
          ]
        }
      ]
    },
    {
      "cell_type": "code",
      "metadata": {
        "colab": {
          "base_uri": "https://localhost:8080/"
        },
        "id": "BxVJE4PaupSb",
        "outputId": "862720f1-7933-4b23-b040-bcff03288ee9"
      },
      "source": [
        "print(\"Count for each Gender value:\\n\",my_data['Gender'].value_counts())"
      ],
      "execution_count": null,
      "outputs": [
        {
          "output_type": "stream",
          "name": "stdout",
          "text": [
            "Count for each Gender value:\n",
            " F    71840\n",
            "M    38687\n",
            "Name: Gender, dtype: int64\n"
          ]
        }
      ]
    },
    {
      "cell_type": "markdown",
      "metadata": {
        "id": "WaAfWgzKu_8D"
      },
      "source": [
        "So there is no problem with the Gender column and we can see that the Female is of value of Gender corresponding to 1 and Males corresponding to 0."
      ]
    },
    {
      "cell_type": "markdown",
      "metadata": {
        "id": "thSwPbue3jyh"
      },
      "source": [
        "\n",
        "### Data Cleaning\n",
        "After discussing the structure of the data and any problems that need to be cleaned, perform those cleaning steps in the second part of this section.\n",
        "\n",
        " "
      ]
    },
    {
      "cell_type": "markdown",
      "metadata": {
        "id": "Cy720DqZsOvg"
      },
      "source": [
        "### Casting the No-show attribute\n",
        "We have found before that the 'No-show' attribute is of type string, and that we cannot use this in our data analysis model. As we need a quantized representation whether the patient has showed or not. This is known as Categorical Data Representation problem. This is one of the things that need to be taken into account when cleaning our data.\n",
        "\n",
        "To make it clear, we will give the class of patients who **showed up** a label of **0** and the patients who **did not show up** a label of **1**."
      ]
    },
    {
      "cell_type": "code",
      "metadata": {
        "collapsed": true,
        "id": "Feg8RVKh3jyi"
      },
      "source": [
        "# # Getting the mask of the patients who showed up\n",
        "# show = my_data['No-show']=='Yes'\n",
        "# # Casting those patients and assignning them to a label of 1\n",
        "# my_data[show]=1\n",
        "# # Getting the mask of the patients who did not show up\n",
        "# not_show = my_data['No-show']=='No'\n",
        "# # Casting those patients and assignning them to a label of 0\n",
        "# my_data['No-show'][not_show]= 0"
      ],
      "execution_count": null,
      "outputs": []
    },
    {
      "cell_type": "code",
      "metadata": {
        "colab": {
          "base_uri": "https://localhost:8080/"
        },
        "id": "SPfhd8FotR3L",
        "outputId": "fce7a9f1-6362-4cf1-bf8e-a567a8f4db89"
      },
      "source": [
        "#Now after the casting let's look at the last attribute value counts\n",
        "print(\"Count for each No-show value:\\n\",my_data['No-show'].value_counts())"
      ],
      "execution_count": null,
      "outputs": [
        {
          "output_type": "stream",
          "name": "stdout",
          "text": [
            "Count for each No-show value:\n",
            " No     88208\n",
            "Yes    22319\n",
            "Name: No-show, dtype: int64\n"
          ]
        }
      ]
    },
    {
      "cell_type": "markdown",
      "metadata": {
        "id": "JytjIDgSuPIh"
      },
      "source": [
        "No, it is obvious that we cleaned our data."
      ]
    },
    {
      "cell_type": "markdown",
      "metadata": {
        "id": "fe8o-MOPqfl7"
      },
      "source": [
        "### Cleaning the wrong ages problem \n",
        "So the whole problem with the ages attribute is with the age of -1 or negative ages generally and we can solve this problem by replacing them by 0"
      ]
    },
    {
      "cell_type": "code",
      "metadata": {
        "id": "tPSRtomnrK4c",
        "colab": {
          "base_uri": "https://localhost:8080/"
        },
        "outputId": "3fe4760b-c0a8-41e2-c359-b078a7d5a0c5"
      },
      "source": [
        "#Get mask of only patients with age < 0\n",
        "wrong_ages = my_data['Age'] < 0\n",
        "#Make these ages 0\n",
        "my_data['Age'][wrong_ages]= 0"
      ],
      "execution_count": null,
      "outputs": [
        {
          "output_type": "stream",
          "name": "stderr",
          "text": [
            "/usr/local/lib/python3.7/dist-packages/ipykernel_launcher.py:4: SettingWithCopyWarning: \n",
            "A value is trying to be set on a copy of a slice from a DataFrame\n",
            "\n",
            "See the caveats in the documentation: http://pandas.pydata.org/pandas-docs/stable/user_guide/indexing.html#returning-a-view-versus-a-copy\n",
            "  after removing the cwd from sys.path.\n"
          ]
        }
      ]
    },
    {
      "cell_type": "code",
      "metadata": {
        "colab": {
          "base_uri": "https://localhost:8080/"
        },
        "id": "T0f4aQX1rhdb",
        "outputId": "7166ec8f-e81a-4478-b6e3-a24cb9e44467"
      },
      "source": [
        "#rechecking if everyhing is ok\n",
        "print(\"Count for each age value:\\n\",my_data['Age'].value_counts(sort=True))"
      ],
      "execution_count": null,
      "outputs": [
        {
          "output_type": "stream",
          "name": "stdout",
          "text": [
            "Count for each age value:\n",
            " 0      3540\n",
            "1      2273\n",
            "52     1746\n",
            "49     1652\n",
            "53     1651\n",
            "       ... \n",
            "98        6\n",
            "115       5\n",
            "100       4\n",
            "102       2\n",
            "99        1\n",
            "Name: Age, Length: 103, dtype: int64\n"
          ]
        }
      ]
    },
    {
      "cell_type": "markdown",
      "metadata": {
        "id": "vSDPmIjevWG7"
      },
      "source": [
        "### Creating the Ages groups\n",
        "In this section we will divide our ages into groups of the following:\n",
        "1. \"child\": people with ages <=10\n",
        "2. \"teen\" :people with ages >10 and <=20\n",
        "3. \"adult\" :people with ages >20 and <=30\n",
        "4. \"40s\" :people with ages >30 and <=40\n",
        "5. \"50s\" :people with ages >40 and <=50\n",
        "6. \"retired\" : people with ages >50 and <=60\n",
        "7. \"70s\": people with ages >60 and <=70\n",
        "8. \"80s\":people with ages >70 and <=80\n",
        "9. \"90s\":people with ages >90 and <=100\n",
        "10. \"100s\":people with ages >100 and <=max\n",
        "11. \"century\":"
      ]
    },
    {
      "cell_type": "code",
      "metadata": {
        "colab": {
          "base_uri": "https://localhost:8080/"
        },
        "id": "yWWJ3xljvejS",
        "outputId": "601d3461-14f2-4ae7-aa6a-97e642fa62a1"
      },
      "source": [
        "\n",
        "#Creating the cut points  for our ages groups and their repsective labels\n",
        "regions = [10, 20, 30, 40, 50, 60, 70, 80, 90, 100]\n",
        "age_groups = [\"child\",\"teen\",\"adult\",\"40s\", \"50s\", \"retired\", \"70s\", \"80s\", \"90s\", \"100s\", \"century\"]\n",
        "#Define min and max values\n",
        "minimum = my_data['Age'].min()\n",
        "maximum = my_data['Age'].max()\n",
        "\n",
        "#create list by adding min and max to cut_points\n",
        "break_points = [minimum] + regions + [maximum]\n",
        "print(my_data['Age'].max())\n",
        "#Dividing the age attribute into groups using cut function of pandas\n",
        "my_data[\"Age-Group\"] = pd.cut(my_data['Age'], bins = break_points, labels = age_groups, include_lowest = True)\n",
        "print(pd.value_counts(my_data[\"Age-Group\"]))"
      ],
      "execution_count": null,
      "outputs": [
        {
          "output_type": "stream",
          "name": "stdout",
          "text": [
            "115\n",
            "child      18750\n",
            "retired    15661\n",
            "40s        15052\n",
            "50s        14420\n",
            "adult      13783\n",
            "teen       13099\n",
            "70s        11189\n",
            "80s         5721\n",
            "90s         2544\n",
            "100s         301\n",
            "century        7\n",
            "Name: Age-Group, dtype: int64\n"
          ]
        }
      ]
    },
    {
      "cell_type": "markdown",
      "metadata": {
        "id": "JehmsWamz2qT"
      },
      "source": [
        "So now we have divided our ages into 11 groups\n"
      ]
    },
    {
      "cell_type": "markdown",
      "metadata": {
        "id": "D5MwbzBl3jyj"
      },
      "source": [
        "<a id='eda'></a>\n",
        "## Exploratory Data Analysis\n",
        "\n",
        "\n"
      ]
    },
    {
      "cell_type": "markdown",
      "metadata": {
        "id": "jzGEZ5Sn3jyk"
      },
      "source": [
        "### Research Question 1  (Does a certain gender influence whether one shows up to appointments or not?!)"
      ]
    },
    {
      "cell_type": "code",
      "metadata": {
        "colab": {
          "base_uri": "https://localhost:8080/"
        },
        "id": "4drIUIz89QAu",
        "outputId": "ec7ae3e8-9f81-4548-ef41-b302a22b6755"
      },
      "source": [
        "# run the groupby function to group the data by gender and no-show\n",
        "show_gender = my_data.groupby(['No-show', 'Gender']).size()\n",
        "print(show_gender)\n"
      ],
      "execution_count": null,
      "outputs": [
        {
          "output_type": "stream",
          "name": "stdout",
          "text": [
            "No-show  Gender\n",
            "No       F         57246\n",
            "         M         30962\n",
            "Yes      F         14594\n",
            "         M          7725\n",
            "dtype: int64\n"
          ]
        }
      ]
    },
    {
      "cell_type": "code",
      "metadata": {
        "colab": {
          "base_uri": "https://localhost:8080/",
          "height": 268
        },
        "id": "0_N2YXJ59QAv",
        "outputId": "745168b1-afb8-4f8d-bf58-2b9383dcd536"
      },
      "source": [
        "# Set pie chart properties\n",
        "labels = 'Female, Showed Up', 'Male, Showed Up', 'Female, Not Showed Up', 'Male, Not Showed Up'\n",
        "cut_points = [show_gender['No']['F'],show_gender['No']['M'],show_gender['Yes']['F'],show_gender['Yes']['M']]\n",
        "colors = ['red', 'blue', 'yellow', 'green']\n",
        "\n",
        "#Set piechart title and axis\n",
        "fig1, ax = plt.subplots()\n",
        "ax.pie(cut_points, labels=labels, colors=colors, autopct='%1.1f%%')\n",
        "plt.title('Gender Vs. Showing Up Distribution', fontsize= 18)\n",
        "\n",
        "# Equal aspect ratio ensures that pie is drawn as a circle.\n",
        "ax.axis('equal')\n",
        "\n",
        "#plot piechart\n",
        "plt.show()"
      ],
      "execution_count": null,
      "outputs": [
        {
          "output_type": "display_data",
          "data": {
            "image/png": "[encoded data removed]",
            "text/plain": [
              "<Figure size 432x288 with 1 Axes>"
            ]
          },
          "metadata": {}
        }
      ]
    },
    {
      "cell_type": "markdown",
      "metadata": {
        "id": "cQlsZsi_0ROb"
      },
      "source": [
        "\n",
        "### Research Question 2 (Does certain age group have high influence whether one shows up to appointments or not? If yes, what will it be?)"
      ]
    },
    {
      "cell_type": "code",
      "metadata": {
        "colab": {
          "base_uri": "https://localhost:8080/"
        },
        "id": "IwiTamv_0eyT",
        "outputId": "2613a7c1-383f-4697-c438-87733a55c495"
      },
      "source": [
        "# run the groupby function to group the data by age groups and no-show\n",
        "show_age = my_data.groupby(['No-show', 'Age-Group']).size()\n",
        "print(show_age)\n"
      ],
      "execution_count": null,
      "outputs": [
        {
          "output_type": "stream",
          "name": "stdout",
          "text": [
            "No-show  Age-Group\n",
            "No       child        14962\n",
            "         teen          9791\n",
            "         adult        10389\n",
            "         40s          11820\n",
            "         50s          11550\n",
            "         retired      12940\n",
            "         70s           9541\n",
            "         80s           4832\n",
            "         90s           2137\n",
            "         100s           242\n",
            "         century          4\n",
            "Yes      child         3788\n",
            "         teen          3308\n",
            "         adult         3394\n",
            "         40s           3232\n",
            "         50s           2870\n",
            "         retired       2721\n",
            "         70s           1648\n",
            "         80s            889\n",
            "         90s            407\n",
            "         100s            59\n",
            "         century          3\n",
            "dtype: int64\n"
          ]
        }
      ]
    },
    {
      "cell_type": "markdown",
      "metadata": {
        "id": "43X-QKzf1a8r"
      },
      "source": [
        "From the above data, it is obvious that there is a split and that all age groupds are represented in both the show up and the not show up categories. We can plot this to further look into it.\n",
        " "
      ]
    },
    {
      "cell_type": "code",
      "metadata": {
        "colab": {
          "base_uri": "https://localhost:8080/",
          "height": 335
        },
        "id": "UWJXa7Bd25dT",
        "outputId": "b79fd68c-8102-4324-acfc-c02c29760b6b"
      },
      "source": [
        "#plotting the not show up and the showed up by age groups\n",
        "ax = show_age['No'].plot(kind='bar',color='blue')\n",
        "show_age['Yes'].plot(ax=ax, color='red',kind='bar',alpha=0.5)\n",
        "plt.xlabel('Age Group', fontsize= 16)\n",
        "plt.ylabel('Number of Patients', fontsize=16)\n",
        "plt.title('No-Show distribution by Age Group', fontsize=22)\n",
        "plt.legend(('Showed Up','Not Showed Up'),loc=\"upper right\")\n",
        "\n",
        "# plt.bar(range(len(data)), values, tick_label=names)\n",
        "plt.show()"
      ],
      "execution_count": null,
      "outputs": [
        {
          "output_type": "display_data",
          "data": {
            "image/png": "[encoded data removed]",
            "text/plain": [
              "<Figure size 432x288 with 1 Axes>"
            ]
          },
          "metadata": {
            "needs_background": "light"
          }
        }
      ]
    },
    {
      "cell_type": "markdown",
      "metadata": {
        "id": "kHzq80Kr0dhT"
      },
      "source": [
        "### Research Question 3 (Does alcoholic people have higher tendency to show up or not?)\n"
      ]
    },
    {
      "cell_type": "code",
      "metadata": {
        "colab": {
          "base_uri": "https://localhost:8080/"
        },
        "id": "BkUT1L_X0fce",
        "outputId": "617a58be-ac7b-4efa-c822-ab45b6230467"
      },
      "source": [
        "# run the groupby function to group the data by aloholism and no-show\n",
        "show_alcohol = my_data.groupby(['No-show', 'Alcoholism']).size()\n",
        "print(show_alcohol)\n"
      ],
      "execution_count": null,
      "outputs": [
        {
          "output_type": "stream",
          "name": "stdout",
          "text": [
            "No-show  Alcoholism\n",
            "No       0             85525\n",
            "         1              2683\n",
            "Yes      0             21642\n",
            "         1               677\n",
            "dtype: int64\n"
          ]
        }
      ]
    },
    {
      "cell_type": "code",
      "metadata": {
        "colab": {
          "base_uri": "https://localhost:8080/",
          "height": 270
        },
        "id": "rHwkOM9_7sJW",
        "outputId": "39fd26f9-59bc-4d8a-f4e7-9b01b30099ea"
      },
      "source": [
        "# Set pie chart properties\n",
        "labels = 'Non-Alcoholic, Showed Up', 'Alcoholic, Showed Up', 'Non-Alcoholic, Not Showed Up', 'Alcoholic, Not Showed Up'\n",
        "cut_points = [show_alcohol['No'][0],show_alcohol['No'][1],show_alcohol['Yes'][0],show_alcohol['Yes'][1]]\n",
        "colors = ['red', 'blue', 'yellow', 'green']\n",
        "\n",
        "#Set piechart title and axis\n",
        "fig1, ax = plt.subplots()\n",
        "ax.pie(cut_points, labels=labels, colors=colors, autopct='%1.1f%%')\n",
        "plt.title('Alcoholism Vs. Showing Up Distribution', fontsize= 18)\n",
        "\n",
        "# Equal aspect ratio ensures that pie is drawn as a circle.\n",
        "ax.axis('equal')\n",
        "\n",
        "#plot piechart\n",
        "plt.show()"
      ],
      "execution_count": null,
      "outputs": [
        {
          "output_type": "display_data",
          "data": {
            "image/png": "[encoded data removed]",
            "text/plain": [
              "<Figure size 432x288 with 1 Axes>"
            ]
          },
          "metadata": {}
        }
      ]
    },
    {
      "cell_type": "markdown",
      "metadata": {
        "id": "37fgsgV3B1S7"
      },
      "source": [
        "### Research Question 4 (Does Diabetic people show up for their appoinments or not ?)"
      ]
    },
    {
      "cell_type": "code",
      "metadata": {
        "colab": {
          "base_uri": "https://localhost:8080/"
        },
        "id": "siCNLd1UCT38",
        "outputId": "0ec31f1f-1bb0-4163-af3f-e1de14ade2a6"
      },
      "source": [
        "# run the groupby function to group the data by aloholism and no-show\n",
        "show_Diabetes = my_data.groupby(['No-show', 'Diabetes']).size()\n",
        "print(show_Diabetes)\n"
      ],
      "execution_count": null,
      "outputs": [
        {
          "output_type": "stream",
          "name": "stdout",
          "text": [
            "No-show  Diabetes\n",
            "No       0           81695\n",
            "         1            6513\n",
            "Yes      0           20889\n",
            "         1            1430\n",
            "dtype: int64\n"
          ]
        }
      ]
    },
    {
      "cell_type": "code",
      "metadata": {
        "colab": {
          "base_uri": "https://localhost:8080/",
          "height": 272
        },
        "id": "zcY2R7N6CVhL",
        "outputId": "975036fd-4adc-475e-d9bd-82657abfc0de"
      },
      "source": [
        "# Set pie chart properties\n",
        "labels = 'Non-Diabetic, Showed Up', 'Diabetic, Showed Up', 'Non-Diabetic, Not Showed Up', 'Diabetic, Not Showed Up'\n",
        "cut_points = [show_Diabetes['No'][0],show_Diabetes['No'][1],show_Diabetes['Yes'][0],show_Diabetes['Yes'][1]]\n",
        "colors = ['green', 'yellow', 'red', 'blue']\n",
        "\n",
        "#Set piechart title and axis\n",
        "fig1, ax = plt.subplots()\n",
        "ax.pie(cut_points, labels=labels, colors=colors, autopct='%1.1f%%')\n",
        "plt.title('Diabetic Vs. Showing Up Distribution', fontsize= 18)\n",
        "\n",
        "# Equal aspect ratio ensures that pie is drawn as a circle.\n",
        "ax.axis('equal')\n",
        "\n",
        "#plot piechart\n",
        "plt.show()"
      ],
      "execution_count": null,
      "outputs": [
        {
          "output_type": "display_data",
          "data": {
            "image/png": "[encoded data removed]",
            "text/plain": [
              "<Figure size 432x288 with 1 Axes>"
            ]
          },
          "metadata": {}
        }
      ]
    },
    {
      "cell_type": "markdown",
      "metadata": {
        "id": "8mZL32vv3jyl"
      },
      "source": [
        "<a id='conclusions'></a>\n",
        "## Conclusions\n",
        "1. Regarding the first research question:\n",
        "\n",
        "\n",
        "> Yes, Gender has an influence on showing up for appointments. As seen from the pie graph, females tend- by almost double the percentage- to show up for their appointments with a percentage of 51.8% vs a 28% for males to show up for the appointments.\n",
        "\n",
        "2. Regarding the second research question:\n",
        "\n",
        "\n",
        "> This question is a little bit dificult to be answered. But there was a very approximate results. There was no major age group whose percentage of not showing up vs showing up is very steep. \n",
        "But let's say that for the children age group the percentage of children who showed up was the highest out of the 11 age groups vs its percentage of not showing up that was approximately equal to other age groups.  \n",
        "\n",
        "3. Regarding the third research question:\n",
        "\n",
        "\n",
        "> Yes, Alholism has a major influence on showing up for appointments as can be fairly seen from the figure. As seen from the pie graph, non-alcoholic people tend to show up by almost 77.5% while alcoholic people tend to show up by only 2.5%. \n",
        "\n",
        "4. Regarding the fourth reserach question:\n",
        " \n",
        ">  Yes, diabetes has an influence on the showing up for appointments. Non-Diabetic people tend by far large percentage to attend the appointments. Such that 73.9% of people who attended the meetings are non-diabetice, while 5.9% of people who showed up are diabetic. Also, Non-diabetic people were more to not to show up than diabetic people. But the largest percentage was for the showing up was as mentioned non-diabetic.\n",
        "\n",
        "\n",
        ">\n",
        "### Limitations\n",
        "The tests done in this notebook are yet tentative ones, as we didn't use any Machine learning or inferential statisctics whihc would of made things much much accurate and better relations.\n",
        "\n",
        "## Submitting your Project \n",
        "\n"
      ]
    },
    {
      "cell_type": "code",
      "metadata": {
        "collapsed": true,
        "id": "ee7i-_Dp3jyl",
        "colab": {
          "base_uri": "https://localhost:8080/"
        },
        "outputId": "cb93d565-f367-468e-8b2c-8d449ffd798f"
      },
      "source": [
        "from subprocess import call\n",
        "call(['python', '-m', 'nbconvert', 'Investigate_a_Dataset.ipynb'])"
      ],
      "execution_count": null,
      "outputs": [
        {
          "output_type": "execute_result",
          "data": {
            "text/plain": [
              "255"
            ]
          },
          "metadata": {},
          "execution_count": 328
        }
      ]
    },
    {
      "cell_type": "code",
      "metadata": {
        "id": "UIJMmVgWGC-t"
      },
      "source": [
        ""
      ],
      "execution_count": null,
      "outputs": []
    }
  ]
}